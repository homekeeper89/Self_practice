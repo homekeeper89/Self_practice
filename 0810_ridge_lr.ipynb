{
 "cells": [
  {
   "cell_type": "code",
   "execution_count": 1,
   "metadata": {
    "collapsed": true
   },
   "outputs": [],
   "source": [
    "from sklearn.linear_model import LinearRegression"
   ]
  },
  {
   "cell_type": "code",
   "execution_count": 2,
   "metadata": {
    "collapsed": true
   },
   "outputs": [],
   "source": [
    "from sklearn.model_selection import train_test_split"
   ]
  },
  {
   "cell_type": "code",
   "execution_count": 3,
   "metadata": {
    "collapsed": true
   },
   "outputs": [],
   "source": [
    "import mglearn"
   ]
  },
  {
   "cell_type": "code",
   "execution_count": 4,
   "metadata": {
    "collapsed": true
   },
   "outputs": [],
   "source": [
    "X, y = mglearn.datasets.make_wave(n_samples = 60)"
   ]
  },
  {
   "cell_type": "code",
   "execution_count": 5,
   "metadata": {},
   "outputs": [
    {
     "data": {
      "text/plain": [
       "(60,)"
      ]
     },
     "execution_count": 5,
     "metadata": {},
     "output_type": "execute_result"
    }
   ],
   "source": [
    "y.shape"
   ]
  },
  {
   "cell_type": "code",
   "execution_count": 6,
   "metadata": {},
   "outputs": [
    {
     "data": {
      "text/plain": [
       "(60, 1)"
      ]
     },
     "execution_count": 6,
     "metadata": {},
     "output_type": "execute_result"
    }
   ],
   "source": [
    "X.shape"
   ]
  },
  {
   "cell_type": "code",
   "execution_count": 7,
   "metadata": {
    "collapsed": true
   },
   "outputs": [],
   "source": [
    "X_train, X_test, y_train, y_test = train_test_split(X,y, random_state = 60)"
   ]
  },
  {
   "cell_type": "code",
   "execution_count": 8,
   "metadata": {},
   "outputs": [
    {
     "data": {
      "text/plain": [
       "(45, 1)"
      ]
     },
     "execution_count": 8,
     "metadata": {},
     "output_type": "execute_result"
    }
   ],
   "source": [
    "X_train.shape"
   ]
  },
  {
   "cell_type": "code",
   "execution_count": 9,
   "metadata": {},
   "outputs": [
    {
     "data": {
      "text/plain": [
       "(15, 1)"
      ]
     },
     "execution_count": 9,
     "metadata": {},
     "output_type": "execute_result"
    }
   ],
   "source": [
    "X_test.shape"
   ]
  },
  {
   "cell_type": "code",
   "execution_count": 10,
   "metadata": {},
   "outputs": [
    {
     "data": {
      "text/plain": [
       "(45,)"
      ]
     },
     "execution_count": 10,
     "metadata": {},
     "output_type": "execute_result"
    }
   ],
   "source": [
    "y_train.shape"
   ]
  },
  {
   "cell_type": "code",
   "execution_count": 29,
   "metadata": {
    "collapsed": true
   },
   "outputs": [],
   "source": [
    "lr = LinearRegression().fit(X_train, y_train)"
   ]
  },
  {
   "cell_type": "code",
   "execution_count": 30,
   "metadata": {},
   "outputs": [
    {
     "data": {
      "text/plain": [
       "LinearRegression(copy_X=True, fit_intercept=True, n_jobs=1, normalize=False)"
      ]
     },
     "execution_count": 30,
     "metadata": {},
     "output_type": "execute_result"
    }
   ],
   "source": [
    "lr"
   ]
  },
  {
   "cell_type": "code",
   "execution_count": 31,
   "metadata": {},
   "outputs": [
    {
     "data": {
      "text/plain": [
       "array([ 0.39657699])"
      ]
     },
     "execution_count": 31,
     "metadata": {},
     "output_type": "execute_result"
    }
   ],
   "source": [
    "lr.coef_"
   ]
  },
  {
   "cell_type": "code",
   "execution_count": 32,
   "metadata": {},
   "outputs": [
    {
     "data": {
      "text/plain": [
       "-0.045600364243923205"
      ]
     },
     "execution_count": 32,
     "metadata": {},
     "output_type": "execute_result"
    }
   ],
   "source": [
    "lr.intercept_"
   ]
  },
  {
   "cell_type": "code",
   "execution_count": 33,
   "metadata": {},
   "outputs": [
    {
     "data": {
      "text/plain": [
       "0.63077699354093042"
      ]
     },
     "execution_count": 33,
     "metadata": {},
     "output_type": "execute_result"
    }
   ],
   "source": [
    "lr.score(X_train, y_train)"
   ]
  },
  {
   "cell_type": "code",
   "execution_count": 35,
   "metadata": {
    "collapsed": true
   },
   "outputs": [],
   "source": [
    "from sklearn.linear_model import Ridge"
   ]
  },
  {
   "cell_type": "code",
   "execution_count": 36,
   "metadata": {
    "collapsed": true
   },
   "outputs": [],
   "source": [
    "ridge = Ridge().fit(X_train, y_train)"
   ]
  },
  {
   "cell_type": "code",
   "execution_count": 40,
   "metadata": {},
   "outputs": [
    {
     "name": "stdout",
     "output_type": "stream",
     "text": [
      "0.630751707109\n"
     ]
    }
   ],
   "source": [
    "print (ridge.score(X_train, y_train))"
   ]
  },
  {
   "cell_type": "code",
   "execution_count": 60,
   "metadata": {
    "collapsed": true
   },
   "outputs": [],
   "source": [
    "X, y = mglearn.datasets.load_extended_boston()"
   ]
  },
  {
   "cell_type": "code",
   "execution_count": 83,
   "metadata": {
    "collapsed": true
   },
   "outputs": [],
   "source": [
    "X_train, X_test, y_train, y_test = train_test_split(X, y, random_state = 0)"
   ]
  },
  {
   "cell_type": "code",
   "execution_count": null,
   "metadata": {
    "collapsed": true
   },
   "outputs": [],
   "source": []
  },
  {
   "cell_type": "code",
   "execution_count": 85,
   "metadata": {},
   "outputs": [
    {
     "data": {
      "text/plain": [
       "Ridge(alpha=1.0, copy_X=True, fit_intercept=True, max_iter=None,\n",
       "   normalize=False, random_state=None, solver='auto', tol=0.001)"
      ]
     },
     "execution_count": 85,
     "metadata": {},
     "output_type": "execute_result"
    }
   ],
   "source": [
    "Ridge().fit(X_train, y_train)"
   ]
  },
  {
   "cell_type": "code",
   "execution_count": 86,
   "metadata": {
    "collapsed": true
   },
   "outputs": [],
   "source": [
    "ridge10 = Ridge(alpha = 10).fit(X_train, y_train)"
   ]
  },
  {
   "cell_type": "code",
   "execution_count": 87,
   "metadata": {},
   "outputs": [
    {
     "data": {
      "text/plain": [
       "0.78834615112332507"
      ]
     },
     "execution_count": 87,
     "metadata": {},
     "output_type": "execute_result"
    }
   ],
   "source": [
    "ridge10.score(X_train, y_train)"
   ]
  },
  {
   "cell_type": "code",
   "execution_count": 88,
   "metadata": {},
   "outputs": [
    {
     "data": {
      "text/plain": [
       "0.63589673274477332"
      ]
     },
     "execution_count": 88,
     "metadata": {},
     "output_type": "execute_result"
    }
   ],
   "source": [
    "ridge10.score(X_test, y_test)"
   ]
  },
  {
   "cell_type": "code",
   "execution_count": 99,
   "metadata": {
    "collapsed": true
   },
   "outputs": [],
   "source": [
    "def ridge_test():\n",
    "    for i in range(1, 100):\n",
    "        Ridge_exe = Ridge(alpha = i).fit(X_test, y_test).score(X_test, y_test)\n",
    "        print (i, Ridge_exe)"
   ]
  },
  {
   "cell_type": "code",
   "execution_count": 100,
   "metadata": {
    "collapsed": true
   },
   "outputs": [
    {
     "name": "stdout",
     "output_type": "stream",
     "text": [
      "1 0.787164244954\n",
      "2 0.750288517804\n",
      "3 0.726355696528\n",
      "4 0.707599530289\n",
      "5 0.691557623727\n",
      "6 0.677195318873\n",
      "7 0.664003928904\n",
      "8 0.651703872039\n",
      "9 0.640127055392\n",
      "10 0.629164277266\n",
      "11 0.618739564108\n",
      "12 0.608796785527\n",
      "13 0.599292288234\n",
      "14 0.590190654924\n",
      "15 0.581462163266\n",
      "16 0.573081206856\n",
      "17 0.565025279248\n",
      "18 0.55727429764\n",
      "19 0.54981013719\n",
      "20 0.542616299434\n",
      "21 0.535677668245\n",
      "22 0.528980324442\n",
      "23 0.522511400679\n",
      "24 0.516258964761\n",
      "25 0.510211923538\n",
      "26 0.504359942099\n",
      "27 0.498693374641\n",
      "28 0.493203204489\n",
      "29 0.48788099142\n",
      "30 0.482718824979\n",
      "31 0.477709282782\n",
      "32 0.472845393047\n",
      "33 0.468120600746\n",
      "34 0.463528736916\n",
      "35 0.459063990733\n",
      "36 0.45472088403\n",
      "37 0.450494247989\n",
      "38 0.446379201785\n",
      "39 0.442371132974\n",
      "40 0.438465679463\n",
      "41 0.434658712907\n",
      "42 0.4309463234\n",
      "43 0.427324805343\n",
      "44 0.423790644391\n",
      "45 0.420340505369\n",
      "46 0.416971221093\n",
      "47 0.413679782004\n",
      "48 0.41046332655\n",
      "49 0.407319132262\n",
      "50 0.404244607462\n",
      "51 0.401237283542\n",
      "52 0.398294807793\n",
      "53 0.395414936709\n",
      "54 0.392595529764\n",
      "55 0.389834543589\n",
      "56 0.387130026546\n",
      "57 0.384480113661\n",
      "58 0.381883021879\n",
      "59 0.37933704563\n",
      "60 0.376840552679\n",
      "61 0.374391980237\n",
      "62 0.371989831314\n",
      "63 0.369632671301\n",
      "64 0.367319124759\n",
      "65 0.365047872405\n",
      "66 0.362817648282\n",
      "67 0.360627237093\n",
      "68 0.358475471695\n",
      "69 0.35636123074\n",
      "70 0.354283436454\n",
      "71 0.352241052539\n",
      "72 0.350233082201\n",
      "73 0.348258566286\n",
      "74 0.346316581518\n",
      "75 0.344406238839\n",
      "76 0.342526681838\n",
      "77 0.340677085264\n",
      "78 0.338856653625\n",
      "79 0.337064619855\n",
      "80 0.335300244056\n",
      "81 0.333562812304\n",
      "82 0.33185163552\n",
      "83 0.330166048396\n",
      "84 0.328505408377\n",
      "85 0.3268690947\n",
      "86 0.325256507472\n",
      "87 0.3236670668\n",
      "88 0.322100211965\n",
      "89 0.320555400635\n",
      "90 0.319032108112\n",
      "91 0.317529826626\n",
      "92 0.316048064652\n",
      "93 0.314586346266\n",
      "94 0.313144210528\n",
      "95 0.3117212109\n",
      "96 0.31031691468\n",
      "97 0.308930902474\n",
      "98 0.307562767687\n",
      "99 0.306212116032\n"
     ]
    }
   ],
   "source": [
    "ridge_test()"
   ]
  },
  {
   "cell_type": "code",
   "execution_count": 105,
   "metadata": {
    "collapsed": true
   },
   "outputs": [],
   "source": [
    "import matplotlib.pyplot as plt\n",
    "%matplotlib inline"
   ]
  },
  {
   "cell_type": "code",
   "execution_count": 102,
   "metadata": {
    "collapsed": true
   },
   "outputs": [],
   "source": [
    "ridge10 = Ridge(alpha = 10).fit(X_train, y_train)\n",
    "ridge01 = Ridge(alpha = 0.1).fit(X_train, y_train)\n",
    "ridge1 = Ridge(alpha = 1).fit(X_train, y_train)"
   ]
  },
  {
   "cell_type": "code",
   "execution_count": 103,
   "metadata": {
    "collapsed": true
   },
   "outputs": [],
   "source": [
    "lr = lr.fit(X_train, y_train)"
   ]
  },
  {
   "cell_type": "code",
   "execution_count": 106,
   "metadata": {},
   "outputs": [
    {
     "data": {
      "text/plain": [
       "<matplotlib.legend.Legend at 0x1a37090f4a8>"
      ]
     },
     "execution_count": 106,
     "metadata": {},
     "output_type": "execute_result"
    },
    {
     "data": {
      "image/png": "[encoded data removed]",
      "text/plain": [
       "<matplotlib.figure.Figure at 0x1a3708084e0>"
      ]
     },
     "metadata": {},
     "output_type": "display_data"
    }
   ],
   "source": [
    "plt.plot(ridge10.coef_, '^', label = 'Ridge alpha = 10')\n",
    "plt.plot(ridge01.coef_, '^', label = 'Ridge alpha = 0.1')\n",
    "plt.plot(ridge1.coef_, '^', label = 'Ridge alpha = 1')\n",
    "\n",
    "plt.plot(lr.coef_, 'o', label = 'LinearRegression')\n",
    "plt.xlabel('계수목록')\n",
    "plt.ylabel('계수크기')\n",
    "plt.hlines(0,0, len(lr.coef_))\n",
    "plt.ylim(-25, 25)\n",
    "plt.legend()"
   ]
  },
  {
   "cell_type": "code",
   "execution_count": 107,
   "metadata": {},
   "outputs": [
    {
     "data": {
      "image/png": "[encoded data removed]",
      "text/plain": [
       "<matplotlib.figure.Figure at 0x1a36dad3f98>"
      ]
     },
     "metadata": {},
     "output_type": "display_data"
    }
   ],
   "source": [
    "mglearn.plots.plot_ridge_n_samples()"
   ]
  },
  {
   "cell_type": "code",
   "execution_count": 108,
   "metadata": {
    "collapsed": true
   },
   "outputs": [],
   "source": [
    "from sklearn.linear_model import Lasso"
   ]
  },
  {
   "cell_type": "code",
   "execution_count": 109,
   "metadata": {
    "collapsed": true
   },
   "outputs": [],
   "source": [
    "lasso = Lasso().fit(X_train, y_train)"
   ]
  },
  {
   "cell_type": "code",
   "execution_count": 110,
   "metadata": {},
   "outputs": [
    {
     "data": {
      "text/plain": [
       "0.29323768991114607"
      ]
     },
     "execution_count": 110,
     "metadata": {},
     "output_type": "execute_result"
    }
   ],
   "source": [
    "lasso.score(X_train, y_train)"
   ]
  },
  {
   "cell_type": "code",
   "execution_count": 111,
   "metadata": {},
   "outputs": [
    {
     "data": {
      "text/plain": [
       "0.20937503255272294"
      ]
     },
     "execution_count": 111,
     "metadata": {},
     "output_type": "execute_result"
    }
   ],
   "source": [
    "lasso.score(X_test, y_test)"
   ]
  },
  {
   "cell_type": "code",
   "execution_count": 112,
   "metadata": {},
   "outputs": [
    {
     "data": {
      "text/plain": [
       "array([-0.        ,  0.        , -0.        ,  0.        , -0.        ,\n",
       "        0.        , -0.        ,  0.        , -0.        , -0.        ,\n",
       "       -0.        ,  0.        , -5.3529079 , -0.        ,  0.        ,\n",
       "       -0.        ,  0.        , -0.        , -0.        , -0.        ,\n",
       "       -0.        , -0.        , -0.        , -0.        , -0.        ,\n",
       "       -0.        ,  0.        ,  0.        ,  0.        ,  0.        ,\n",
       "        0.        ,  0.        ,  0.        ,  0.        ,  0.        ,\n",
       "        0.        ,  0.        ,  0.        , -0.        ,  0.        ,\n",
       "       -0.        , -0.        , -0.        , -0.        , -0.        ,\n",
       "       -0.        , -0.        , -0.        , -0.        ,  0.        ,\n",
       "        0.        ,  0.        ,  0.        ,  0.        ,  0.        ,\n",
       "        0.        ,  0.        ,  0.        , -0.        , -0.        ,\n",
       "       -0.        , -0.        , -0.        , -0.        , -0.        ,\n",
       "       -0.        , -0.        , -0.        ,  0.        ,  0.        ,\n",
       "        0.        , -0.        , -0.        , -0.        ,  0.        ,\n",
       "       -0.        , -0.        ,  0.        , -0.        , -1.05063037,\n",
       "       -3.3104274 , -0.        , -0.        ,  0.        , -0.        ,\n",
       "       -0.        , -0.        ,  0.        , -0.        , -0.41386744,\n",
       "       -0.        , -0.        , -0.        , -0.        , -0.        ,\n",
       "       -0.        , -0.        , -0.        , -0.        , -0.        ,\n",
       "       -0.        ,  0.        , -0.        , -0.        ])"
      ]
     },
     "execution_count": 112,
     "metadata": {},
     "output_type": "execute_result"
    }
   ],
   "source": [
    "lasso.coef_"
   ]
  },
  {
   "cell_type": "code",
   "execution_count": 113,
   "metadata": {
    "collapsed": true
   },
   "outputs": [],
   "source": [
    "lasso001 = Lasso(alpha = 0.01, max_iter = 100000).fit(X_train, y_train)"
   ]
  },
  {
   "cell_type": "code",
   "execution_count": 114,
   "metadata": {},
   "outputs": [
    {
     "data": {
      "text/plain": [
       "0.89650695597512897"
      ]
     },
     "execution_count": 114,
     "metadata": {},
     "output_type": "execute_result"
    }
   ],
   "source": [
    "lasso001.score(X_train, y_train)"
   ]
  },
  {
   "cell_type": "code",
   "execution_count": 115,
   "metadata": {},
   "outputs": [
    {
     "data": {
      "text/plain": [
       "0.76564898878435206"
      ]
     },
     "execution_count": 115,
     "metadata": {},
     "output_type": "execute_result"
    }
   ],
   "source": [
    "lasso001.score(X_test, y_test)"
   ]
  },
  {
   "cell_type": "code",
   "execution_count": 116,
   "metadata": {},
   "outputs": [
    {
     "data": {
      "text/plain": [
       "array([ -0.        ,  -0.        ,  -0.        ,   0.        ,\n",
       "        -0.        ,   0.        ,  -0.        ,  -1.30683918,\n",
       "        10.94664016,   0.        ,   0.        ,   0.        ,\n",
       "        -0.31532732,  -0.        ,  -0.        ,  -0.        ,\n",
       "         0.        ,  -0.        ,  -0.        ,  -0.        ,\n",
       "        -0.        ,  -8.91227147,  -0.        ,  -0.        ,\n",
       "        -0.        ,  -0.        ,   2.09533733,  -0.        ,\n",
       "         0.        ,  -0.        ,   0.        ,  -0.        ,\n",
       "         0.        ,   0.        ,  -0.        ,   0.        ,\n",
       "        -0.        ,  -0.        ,   0.        ,   0.        ,\n",
       "         0.        ,  -0.        ,   0.        ,  -4.08249984,\n",
       "         0.        ,   6.66787706,  -0.        ,  -0.        ,\n",
       "        -0.        ,   0.        ,  -4.40104807,  -2.10548411,\n",
       "         3.77595291,  -0.        ,   4.38381849,   0.        ,\n",
       "         0.        ,   0.18662246,  -0.        ,  -1.17594281,\n",
       "        -4.29006257,  -0.        ,  -0.        ,  -2.2160665 ,\n",
       "        -0.        ,  -1.8820987 ,  -0.        ,  -0.        ,\n",
       "        29.74050877,  -2.08168251,   0.        , -12.00134952,\n",
       "       -11.14786769, -11.66008855,  13.11691565, -11.15372311,\n",
       "        -0.        ,  -0.        ,   3.47562768,   0.        ,\n",
       "        -0.        ,  -0.        ,  -8.56630681,   0.        ,\n",
       "         0.        ,  -0.        ,   0.        ,  -7.38806253,\n",
       "        -0.        ,   0.        ,   1.00758109,   0.        ,\n",
       "         0.        ,  -7.590696  ,   1.61168692,   0.        ,\n",
       "         0.        , -17.43126251,   0.        ,   0.        ,\n",
       "        -0.        ,   0.28683048,  -8.1576745 ,  17.49647215])"
      ]
     },
     "execution_count": 116,
     "metadata": {},
     "output_type": "execute_result"
    }
   ],
   "source": [
    "\n",
    "lasso001.coef_"
   ]
  },
  {
   "cell_type": "code",
   "execution_count": 118,
   "metadata": {
    "collapsed": true
   },
   "outputs": [],
   "source": [
    "lasso00001 = Lasso(alpha = 0.0001, max_iter = 1000000).fit(X_train, y_train)"
   ]
  },
  {
   "cell_type": "code",
   "execution_count": 121,
   "metadata": {},
   "outputs": [
    {
     "data": {
      "text/plain": [
       "<matplotlib.legend.Legend at 0x1a3740bfd30>"
      ]
     },
     "execution_count": 121,
     "metadata": {},
     "output_type": "execute_result"
    },
    {
     "data": {
      "image/png": "[encoded data removed]",
      "text/plain": [
       "<matplotlib.figure.Figure at 0x1a374060048>"
      ]
     },
     "metadata": {},
     "output_type": "display_data"
    }
   ],
   "source": [
    "plt.plot(lasso.coef_, 's', label = 'Lasso alpha = 1')\n",
    "plt.plot(lasso001.coef_, '^', label = 'Lasso alpha = 0.01')\n",
    "plt.plot(lasso00001.coef_, 'v', label = 'Lasso alpha = 0.0001')\n",
    "\n",
    "plt.plot(ridge01.coef_, 'o', label = 'Ridge alpha = 0.1')\n",
    "plt.legend(ncol = 2, loc = (0, 1.05))"
   ]
  },
  {
   "cell_type": "code",
   "execution_count": 122,
   "metadata": {
    "collapsed": true
   },
   "outputs": [],
   "source": [
    "from sklearn.linear_model import LogisticRegression"
   ]
  },
  {
   "cell_type": "code",
   "execution_count": 123,
   "metadata": {
    "collapsed": true
   },
   "outputs": [],
   "source": [
    "from sklearn.svm import LinearSVC"
   ]
  },
  {
   "cell_type": "code",
   "execution_count": 124,
   "metadata": {
    "collapsed": true
   },
   "outputs": [],
   "source": [
    "X, y = mglearn.datasets.make_forge()"
   ]
  },
  {
   "cell_type": "code",
   "execution_count": 134,
   "metadata": {},
   "outputs": [
    {
     "data": {
      "text/plain": [
       "numpy.ndarray"
      ]
     },
     "execution_count": 134,
     "metadata": {},
     "output_type": "execute_result"
    },
    {
     "data": {
      "image/png": "[encoded data removed]",
      "text/plain": [
       "<matplotlib.figure.Figure at 0x1a3743ab748>"
      ]
     },
     "metadata": {},
     "output_type": "display_data"
    }
   ],
   "source": [
    "fig, axes = plt.subplots(1,2, figsize = (10, 3))\n",
    "type(axes)"
   ]
  },
  {
   "cell_type": "code",
   "execution_count": 137,
   "metadata": {},
   "outputs": [
    {
     "data": {
      "text/plain": [
       "array([<matplotlib.axes._subplots.AxesSubplot object at 0x000001A37441BE80>,\n",
       "       <matplotlib.axes._subplots.AxesSubplot object at 0x000001A374521860>], dtype=object)"
      ]
     },
     "execution_count": 137,
     "metadata": {},
     "output_type": "execute_result"
    }
   ],
   "source": [
    "axes"
   ]
  },
  {
   "cell_type": "code",
   "execution_count": 131,
   "metadata": {},
   "outputs": [
    {
     "data": {
      "text/plain": [
       "<matplotlib.legend.Legend at 0x1a370a7feb8>"
      ]
     },
     "execution_count": 131,
     "metadata": {},
     "output_type": "execute_result"
    },
    {
     "data": {
      "image/png": "[encoded data removed]",
      "text/plain": [
       "<matplotlib.figure.Figure at 0x1a370a7ffd0>"
      ]
     },
     "metadata": {},
     "output_type": "display_data"
    }
   ],
   "source": [
    "fig, axes = plt.subplots(1,2, figsize = (10, 3))\n",
    "\n",
    "for model, ax in zip([LinearSVC(), LogisticRegression()], axes):\n",
    "    clf = model.fit(X,y)\n",
    "    mglearn.plots.plot_2d_separator(clf, X, fill= False, eps = 0.5, ax = ax, alpha = .7)\n",
    "    mglearn.discrete_scatter(X[:, 0], X[:, 1], y, ax = ax)\n",
    "    ax.set_title(\"{}\".format(clf.__class__.__name__))\n",
    "    ax.set_xlabel('특성 0')\n",
    "    ax.set_ylabel('특성 1')\n",
    "axes[0].legend()"
   ]
  },
  {
   "cell_type": "code",
   "execution_count": 144,
   "metadata": {},
   "outputs": [
    {
     "data": {
      "text/html": [
       "<div>\n",
       "<style>\n",
       "    .dataframe thead tr:only-child th {\n",
       "        text-align: right;\n",
       "    }\n",
       "\n",
       "    .dataframe thead th {\n",
       "        text-align: left;\n",
       "    }\n",
       "\n",
       "    .dataframe tbody tr th {\n",
       "        vertical-align: top;\n",
       "    }\n",
       "</style>\n",
       "<table border=\"1\" class=\"dataframe\">\n",
       "  <thead>\n",
       "    <tr style=\"text-align: right;\">\n",
       "      <th></th>\n",
       "      <th>0</th>\n",
       "      <th>1</th>\n",
       "    </tr>\n",
       "  </thead>\n",
       "  <tbody>\n",
       "    <tr>\n",
       "      <th>0</th>\n",
       "      <td>9.963466</td>\n",
       "      <td>4.596765</td>\n",
       "    </tr>\n",
       "    <tr>\n",
       "      <th>1</th>\n",
       "      <td>11.032954</td>\n",
       "      <td>-0.168167</td>\n",
       "    </tr>\n",
       "    <tr>\n",
       "      <th>2</th>\n",
       "      <td>11.541558</td>\n",
       "      <td>5.211161</td>\n",
       "    </tr>\n",
       "    <tr>\n",
       "      <th>3</th>\n",
       "      <td>8.692890</td>\n",
       "      <td>1.543220</td>\n",
       "    </tr>\n",
       "    <tr>\n",
       "      <th>4</th>\n",
       "      <td>8.106227</td>\n",
       "      <td>4.286960</td>\n",
       "    </tr>\n",
       "    <tr>\n",
       "      <th>5</th>\n",
       "      <td>8.309889</td>\n",
       "      <td>4.806240</td>\n",
       "    </tr>\n",
       "    <tr>\n",
       "      <th>6</th>\n",
       "      <td>11.930271</td>\n",
       "      <td>4.648663</td>\n",
       "    </tr>\n",
       "    <tr>\n",
       "      <th>7</th>\n",
       "      <td>9.672847</td>\n",
       "      <td>-0.202832</td>\n",
       "    </tr>\n",
       "    <tr>\n",
       "      <th>8</th>\n",
       "      <td>8.348103</td>\n",
       "      <td>5.134156</td>\n",
       "    </tr>\n",
       "    <tr>\n",
       "      <th>9</th>\n",
       "      <td>8.674947</td>\n",
       "      <td>4.475731</td>\n",
       "    </tr>\n",
       "    <tr>\n",
       "      <th>10</th>\n",
       "      <td>9.177484</td>\n",
       "      <td>5.092832</td>\n",
       "    </tr>\n",
       "    <tr>\n",
       "      <th>11</th>\n",
       "      <td>10.240289</td>\n",
       "      <td>2.455444</td>\n",
       "    </tr>\n",
       "    <tr>\n",
       "      <th>12</th>\n",
       "      <td>8.689371</td>\n",
       "      <td>1.487096</td>\n",
       "    </tr>\n",
       "    <tr>\n",
       "      <th>13</th>\n",
       "      <td>8.922295</td>\n",
       "      <td>-0.639932</td>\n",
       "    </tr>\n",
       "    <tr>\n",
       "      <th>14</th>\n",
       "      <td>9.491235</td>\n",
       "      <td>4.332248</td>\n",
       "    </tr>\n",
       "    <tr>\n",
       "      <th>15</th>\n",
       "      <td>9.256942</td>\n",
       "      <td>5.132849</td>\n",
       "    </tr>\n",
       "    <tr>\n",
       "      <th>16</th>\n",
       "      <td>7.998153</td>\n",
       "      <td>4.852505</td>\n",
       "    </tr>\n",
       "    <tr>\n",
       "      <th>17</th>\n",
       "      <td>8.183781</td>\n",
       "      <td>1.295642</td>\n",
       "    </tr>\n",
       "    <tr>\n",
       "      <th>18</th>\n",
       "      <td>8.733709</td>\n",
       "      <td>2.491624</td>\n",
       "    </tr>\n",
       "    <tr>\n",
       "      <th>19</th>\n",
       "      <td>9.322983</td>\n",
       "      <td>5.098406</td>\n",
       "    </tr>\n",
       "    <tr>\n",
       "      <th>20</th>\n",
       "      <td>10.063938</td>\n",
       "      <td>0.990781</td>\n",
       "    </tr>\n",
       "    <tr>\n",
       "      <th>21</th>\n",
       "      <td>9.500490</td>\n",
       "      <td>-0.264303</td>\n",
       "    </tr>\n",
       "    <tr>\n",
       "      <th>22</th>\n",
       "      <td>8.344688</td>\n",
       "      <td>1.638243</td>\n",
       "    </tr>\n",
       "    <tr>\n",
       "      <th>23</th>\n",
       "      <td>9.501693</td>\n",
       "      <td>1.938246</td>\n",
       "    </tr>\n",
       "    <tr>\n",
       "      <th>24</th>\n",
       "      <td>9.150723</td>\n",
       "      <td>5.498322</td>\n",
       "    </tr>\n",
       "    <tr>\n",
       "      <th>25</th>\n",
       "      <td>11.563957</td>\n",
       "      <td>1.338940</td>\n",
       "    </tr>\n",
       "  </tbody>\n",
       "</table>\n",
       "</div>"
      ],
      "text/plain": [
       "            0         1\n",
       "0    9.963466  4.596765\n",
       "1   11.032954 -0.168167\n",
       "2   11.541558  5.211161\n",
       "3    8.692890  1.543220\n",
       "4    8.106227  4.286960\n",
       "5    8.309889  4.806240\n",
       "6   11.930271  4.648663\n",
       "7    9.672847 -0.202832\n",
       "8    8.348103  5.134156\n",
       "9    8.674947  4.475731\n",
       "10   9.177484  5.092832\n",
       "11  10.240289  2.455444\n",
       "12   8.689371  1.487096\n",
       "13   8.922295 -0.639932\n",
       "14   9.491235  4.332248\n",
       "15   9.256942  5.132849\n",
       "16   7.998153  4.852505\n",
       "17   8.183781  1.295642\n",
       "18   8.733709  2.491624\n",
       "19   9.322983  5.098406\n",
       "20  10.063938  0.990781\n",
       "21   9.500490 -0.264303\n",
       "22   8.344688  1.638243\n",
       "23   9.501693  1.938246\n",
       "24   9.150723  5.498322\n",
       "25  11.563957  1.338940"
      ]
     },
     "execution_count": 144,
     "metadata": {},
     "output_type": "execute_result"
    }
   ],
   "source": [
    "pd.DataFrame(X)"
   ]
  },
  {
   "cell_type": "code",
   "execution_count": 145,
   "metadata": {},
   "outputs": [
    {
     "data": {
      "text/html": [
       "<div>\n",
       "<style>\n",
       "    .dataframe thead tr:only-child th {\n",
       "        text-align: right;\n",
       "    }\n",
       "\n",
       "    .dataframe thead th {\n",
       "        text-align: left;\n",
       "    }\n",
       "\n",
       "    .dataframe tbody tr th {\n",
       "        vertical-align: top;\n",
       "    }\n",
       "</style>\n",
       "<table border=\"1\" class=\"dataframe\">\n",
       "  <thead>\n",
       "    <tr style=\"text-align: right;\">\n",
       "      <th></th>\n",
       "      <th>0</th>\n",
       "    </tr>\n",
       "  </thead>\n",
       "  <tbody>\n",
       "    <tr>\n",
       "      <th>0</th>\n",
       "      <td>1</td>\n",
       "    </tr>\n",
       "    <tr>\n",
       "      <th>1</th>\n",
       "      <td>0</td>\n",
       "    </tr>\n",
       "    <tr>\n",
       "      <th>2</th>\n",
       "      <td>1</td>\n",
       "    </tr>\n",
       "    <tr>\n",
       "      <th>3</th>\n",
       "      <td>0</td>\n",
       "    </tr>\n",
       "    <tr>\n",
       "      <th>4</th>\n",
       "      <td>0</td>\n",
       "    </tr>\n",
       "    <tr>\n",
       "      <th>5</th>\n",
       "      <td>1</td>\n",
       "    </tr>\n",
       "    <tr>\n",
       "      <th>6</th>\n",
       "      <td>1</td>\n",
       "    </tr>\n",
       "    <tr>\n",
       "      <th>7</th>\n",
       "      <td>0</td>\n",
       "    </tr>\n",
       "    <tr>\n",
       "      <th>8</th>\n",
       "      <td>1</td>\n",
       "    </tr>\n",
       "    <tr>\n",
       "      <th>9</th>\n",
       "      <td>1</td>\n",
       "    </tr>\n",
       "    <tr>\n",
       "      <th>10</th>\n",
       "      <td>1</td>\n",
       "    </tr>\n",
       "    <tr>\n",
       "      <th>11</th>\n",
       "      <td>1</td>\n",
       "    </tr>\n",
       "    <tr>\n",
       "      <th>12</th>\n",
       "      <td>0</td>\n",
       "    </tr>\n",
       "    <tr>\n",
       "      <th>13</th>\n",
       "      <td>0</td>\n",
       "    </tr>\n",
       "    <tr>\n",
       "      <th>14</th>\n",
       "      <td>1</td>\n",
       "    </tr>\n",
       "    <tr>\n",
       "      <th>15</th>\n",
       "      <td>1</td>\n",
       "    </tr>\n",
       "    <tr>\n",
       "      <th>16</th>\n",
       "      <td>1</td>\n",
       "    </tr>\n",
       "    <tr>\n",
       "      <th>17</th>\n",
       "      <td>0</td>\n",
       "    </tr>\n",
       "    <tr>\n",
       "      <th>18</th>\n",
       "      <td>0</td>\n",
       "    </tr>\n",
       "    <tr>\n",
       "      <th>19</th>\n",
       "      <td>1</td>\n",
       "    </tr>\n",
       "    <tr>\n",
       "      <th>20</th>\n",
       "      <td>0</td>\n",
       "    </tr>\n",
       "    <tr>\n",
       "      <th>21</th>\n",
       "      <td>0</td>\n",
       "    </tr>\n",
       "    <tr>\n",
       "      <th>22</th>\n",
       "      <td>0</td>\n",
       "    </tr>\n",
       "    <tr>\n",
       "      <th>23</th>\n",
       "      <td>0</td>\n",
       "    </tr>\n",
       "    <tr>\n",
       "      <th>24</th>\n",
       "      <td>1</td>\n",
       "    </tr>\n",
       "    <tr>\n",
       "      <th>25</th>\n",
       "      <td>0</td>\n",
       "    </tr>\n",
       "  </tbody>\n",
       "</table>\n",
       "</div>"
      ],
      "text/plain": [
       "    0\n",
       "0   1\n",
       "1   0\n",
       "2   1\n",
       "3   0\n",
       "4   0\n",
       "5   1\n",
       "6   1\n",
       "7   0\n",
       "8   1\n",
       "9   1\n",
       "10  1\n",
       "11  1\n",
       "12  0\n",
       "13  0\n",
       "14  1\n",
       "15  1\n",
       "16  1\n",
       "17  0\n",
       "18  0\n",
       "19  1\n",
       "20  0\n",
       "21  0\n",
       "22  0\n",
       "23  0\n",
       "24  1\n",
       "25  0"
      ]
     },
     "execution_count": 145,
     "metadata": {},
     "output_type": "execute_result"
    }
   ],
   "source": [
    "pd.DataFrame(y)"
   ]
  },
  {
   "cell_type": "code",
   "execution_count": 151,
   "metadata": {},
   "outputs": [
    {
     "data": {
      "text/plain": [
       "<matplotlib.legend.Legend at 0x1a374676400>"
      ]
     },
     "execution_count": 151,
     "metadata": {},
     "output_type": "execute_result"
    },
    {
     "data": {
      "image/png": "[encoded data removed]",
      "text/plain": [
       "<matplotlib.figure.Figure at 0x1a374825940>"
      ]
     },
     "metadata": {},
     "output_type": "display_data"
    }
   ],
   "source": [
    "fig, axes = plt.subplots(1,2, figsize = (10, 3))\n",
    "\n",
    "for model, ax in zip([LinearSVC(), LogisticRegression()], axes):\n",
    "    clf = model.fit(X,y)\n",
    "    mglearn.plots.plot_2d_separator(clf, X, fill= False, eps = 0.5, ax = ax, alpha = .7)\n",
    "    mglearn.discrete_scatter(X[:, 0], X[:, 1], y, ax = ax)\n",
    "    # first_axis, second_axis \n",
    "    # X 0번 칼럼, X 1번 칼럼 이렇게. 즉 2칼럼으로 되어있는 데이터 프레임의 칼럼을 각각 X1, X2 로 둔 셈\n",
    "    # 그리고 그에 따르는 y 값\n",
    "    ax.set_title(\"{}\".format(clf.__class__.__name__))\n",
    "    ax.set_xlabel('특성 0')\n",
    "    ax.set_ylabel('특성 1')\n",
    "axes[0].legend()"
   ]
  },
  {
   "cell_type": "code",
   "execution_count": 149,
   "metadata": {},
   "outputs": [
    {
     "data": {
      "text/plain": [
       "<matplotlib.legend.Legend at 0x1a374959d68>"
      ]
     },
     "execution_count": 149,
     "metadata": {},
     "output_type": "execute_result"
    },
    {
     "data": {
      "image/png": "[encoded data removed]",
      "text/plain": [
       "<matplotlib.figure.Figure at 0x1a3743c75c0>"
      ]
     },
     "metadata": {},
     "output_type": "display_data"
    }
   ],
   "source": [
    "fig, axes = plt.subplots(1,2, figsize = (10, 3))\n",
    "\n",
    "for model, ax in zip([LinearSVC(), LogisticRegression()], axes):\n",
    "    clf = model.fit(X,y)\n",
    "    mglearn.plots.plot_2d_separator(clf, X, fill= False, eps = 0.5, ax = ax, alpha = .7)\n",
    "    mglearn.discrete_scatter(X[:, 0], X[:, 1], y, ax = ax)\n",
    "    # first_axis, second_axis \n",
    "    # X 0번 칼럼, X 1번 칼럼 이렇게. 즉 2칼럼으로 되어있는 데이터 프레임의 칼럼을 각각 X1, X2 로 둔 셈\n",
    "    # 그리고 그에 따르는 y 값\n",
    "    ax.set_title(\"{}\".format(clf.__class__.__name__))\n",
    "    ax.set_xlabel('특성 0')\n",
    "    ax.set_ylabel('특성 1')\n",
    "axes[0].legend()"
   ]
  },
  {
   "cell_type": "markdown",
   "metadata": {},
   "source": [
    "Signature: mglearn.plots.plot_2d_separator(classifier, X, fill=False, ax=None, eps=None, alpha=1, cm=<matplotlib.colors.ListedColormap object at 0x000001A36E23AC50>, linewidth=None, threshold=None, linestyle='solid')"
   ]
  },
  {
   "cell_type": "markdown",
   "metadata": {},
   "source": [
    "Signature: mglearn.discrete_scatter(x1, x2, y=None, markers=None, s=10, ax=None, labels=None, padding=0.2, alpha=1, c=None, markeredgewidth=None)\n",
    "Docstring:\n",
    "Adaption of matplotlib.pyplot.scatter to plot classes or clusters.\n",
    "\n",
    "Parameters\n",
    "----------\n",
    "\n",
    "x1 : nd-array\n",
    "    input data, first axis\n",
    "\n",
    "x2 : nd-array\n",
    "    input data, second axis\n",
    "\n",
    "y : nd-array\n",
    "    input data, discrete labels\n",
    "\n",
    "cmap : colormap\n",
    "    Colormap to use.\n",
    "\n",
    "markers : list of string\n",
    "    List of markers to use, or None (which defaults to 'o').\n",
    "\n",
    "s : int or float\n",
    "    Size of the marker\n",
    "\n",
    "padding : float\n",
    "    Fraction of the dataset range to use for padding the axes.\n",
    "\n",
    "alpha : float\n",
    "    Alpha value for all points."
   ]
  },
  {
   "cell_type": "code",
   "execution_count": 152,
   "metadata": {},
   "outputs": [
    {
     "data": {
      "image/png": "[encoded data removed]",
      "text/plain": [
       "<matplotlib.figure.Figure at 0x1a3748ebd30>"
      ]
     },
     "metadata": {},
     "output_type": "display_data"
    }
   ],
   "source": [
    "mglearn.plots.plot_linear_svc_regularization()"
   ]
  },
  {
   "cell_type": "markdown",
   "metadata": {},
   "source": [
    "### 선형회귀 정리"
   ]
  },
  {
   "cell_type": "markdown",
   "metadata": {},
   "source": [
    "1. 임포트 하기\n",
    "    - from sklearn.linear_model import LinearRegression / 회귀 모델 임포트\n",
    "    - from sklearn.model_selection imoport train_test_split / 스플릿 함수 임포트\n",
    "\n",
    "2. 모델 적용하기\n",
    "\n",
    "    2.1 : 테스트 셋 나누기\n",
    "        - X_train, X_test, y_train, y_test = train_test_split(X, y)\n",
    "        - 75/25 가 디폴트, 값 수정 가능. Random_state는 뭐하는 변수인지 모르겠음\n",
    "    \n",
    "    2.2 : 모델 만들기, fit\n",
    "        - lr = LinearRegression().fit(X_train, y_train)\n",
    "        - 변수명은 자기 마음대로.\n",
    "        - 회귀식이란 알고리즘에 데이터를 삽입하여 모델을 만듬\n",
    "\n",
    "3. 모델 확인하기\n",
    "\n",
    "    3.1 : 계수 확인 lr.coef_ / lr.intercept_\n",
    "        - 계수와 상수들을 확인한다.(W값, 기울기)\n",
    " \n",
    "    3.2 : 점수 확인하기\n",
    "        - score\n",
    "        - 만들어진 모델에서 나온 예측값과 실제 간의 차이를 계산한다\n",
    "        - lr.score(X_train_, y_train) # 만들어진\n",
    "        - lr.score(X_tesst, y_test)\n",
    "            ### 위에서 만들어진 모델로 train셋과 test 셋을 확인하는 셈\n",
    "\n",
    "        \n",
    "    \n",
    "\n",
    "    "
   ]
  },
  {
   "cell_type": "markdown",
   "metadata": {},
   "source": [
    "### Ridge 정리\n",
    "\n",
    "1. 임포트 하기\n",
    "    - from sklearn.linear_model import Ridge\n",
    "    - from sklearn.model_selection import train_test_split / 위와 동일\n",
    "    \n",
    "2. 모델 적용하기\n",
    "    2.2 : 모델 만들기\n",
    "        - ridge = Ridge().fit(X_train, y_train)\n",
    "        - Ridge()안에 alpha = 값을 주므로서 제약을 걸 수 있다.\n",
    "        - 알파값이 커질수록 계수의 절대값은 줄어들며 알파값이 작아질수록 계수들의 절대값은 커진다\n",
    "3. 모델 확인하기\n",
    "    3.1 : 계수, 절편 확인하기 : coef_, intercept_\n",
    "    3,2 : 스코어 확인하기 : ridge.socre(X_train, y_train)\n",
    "        - 위에서 만들어진 모델에 데이터 넣으므로써 확인함"
   ]
  },
  {
   "cell_type": "markdown",
   "metadata": {},
   "source": [
    "### Lasso 정리\n",
    "\n",
    "1. 임포트 하기\n",
    "    - from sklearn.linear_model import Lasso\n",
    "    - from sklearn.model_selection import train_test_split\n",
    "    \n",
    "2. 모델 적용하기\n",
    "\n",
    "    2.2 모델 만들기\n",
    "        - lasso = Lasso().fit(X_train, y_train)\n",
    "        - ridge와 동일하게 알파 값을 줄 수 있으나 알파값이 줄어들면 max_iter 값도 조절해줘야함\n",
    "        - Lasso(alpha = 0.01, max_iter = 100000).fit(X_train, y_train)\n",
    "        - max_iter 는 오차를 찾아가는 반복 횟수를 뜻함\n",
    "3. 모델 확인하기\n",
    "    3.1 : coef_, intercepts_\n",
    "    \n",
    "    3.2 : Lasso.score(X_train, y_train)"
   ]
  },
  {
   "cell_type": "code",
   "execution_count": null,
   "metadata": {
    "collapsed": true
   },
   "outputs": [],
   "source": [
    "train_test_split"
   ]
  }
 ],
 "metadata": {
  "kernelspec": {
   "display_name": "Python 3",
   "language": "python",
   "name": "python3"
  },
  "language_info": {
   "codemirror_mode": {
    "name": "ipython",
    "version": 3
   },
   "file_extension": ".py",
   "mimetype": "text/x-python",
   "name": "python",
   "nbconvert_exporter": "python",
   "pygments_lexer": "ipython3",
   "version": "3.6.1"
  }
 },
 "nbformat": 4,
 "nbformat_minor": 2
}
