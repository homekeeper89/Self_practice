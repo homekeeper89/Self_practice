{
 "cells": [
  {
   "cell_type": "code",
   "execution_count": 1,
   "metadata": {
    "collapsed": true
   },
   "outputs": [],
   "source": [
    "import numpy as np\n",
    "import pandas as pd\n",
    "import matplotlib.pyplot as plt\n",
    "%matplotlib inline\n",
    "import mglearn"
   ]
  },
  {
   "cell_type": "code",
   "execution_count": 8,
   "metadata": {},
   "outputs": [
    {
     "name": "stdout",
     "output_type": "stream",
     "text": [
      "test set score0.88\n"
     ]
    }
   ],
   "source": [
    "from sklearn.datasets import make_blobs\n",
    "from sklearn.linear_model import LogisticRegression\n",
    "from sklearn.model_selection import train_test_split\n",
    "\n",
    "X, y = make_blobs(random_state = 0)\n",
    "X_train, X_test, y_train, y_test = train_test_split(X, y, random_state = 0)\n",
    "\n",
    "logreg = LogisticRegression().fit(X_train, y_train)\n",
    "print ('test set score{:.2f}'.format(logreg.score(X_test, y_test)))"
   ]
  },
  {
   "cell_type": "code",
   "execution_count": null,
   "metadata": {
    "collapsed": true
   },
   "outputs": [],
   "source": [
    "# 이번장의 목표\n",
    "# 일반화 성능 측정 방법인 교차검증\n",
    "# score 메써드가 제공하는 정확도와 R**2 값 이외에 분류와 회귀성능을 측정하는 다른 방법"
   ]
  },
  {
   "cell_type": "code",
   "execution_count": 3,
   "metadata": {},
   "outputs": [
    {
     "data": {
      "text/plain": [
       "(100, 2)"
      ]
     },
     "execution_count": 3,
     "metadata": {},
     "output_type": "execute_result"
    }
   ],
   "source": [
    "X.shape"
   ]
  },
  {
   "cell_type": "code",
   "execution_count": 4,
   "metadata": {},
   "outputs": [
    {
     "data": {
      "text/plain": [
       "(100,)"
      ]
     },
     "execution_count": 4,
     "metadata": {},
     "output_type": "execute_result"
    }
   ],
   "source": [
    "y.shape"
   ]
  },
  {
   "cell_type": "markdown",
   "metadata": {},
   "source": [
    "# 5.1 교차검증(Cross_validation)"
   ]
  },
  {
   "cell_type": "markdown",
   "metadata": {},
   "source": [
    "- 가장 널리 사용되는 방법 K-fold cross-validation\n",
    "- 먼저 fold를 나눠야함(비슷한 크기의 부분집합, 나누는 갯수 K)\n",
    "- 5개가 생성됬다고 하면 1번은 테스트 셋, 2-5번은 트레인 셋으로 사용, 평가\n",
    "- 이런 식으로 5번 반복\n",
    "- moder_selection 모듈의 cross_val_score를 사용함"
   ]
  },
  {
   "cell_type": "code",
   "execution_count": 11,
   "metadata": {},
   "outputs": [
    {
     "data": {
      "image/png": "[encoded data removed]",
      "text/plain": [
       "<matplotlib.figure.Figure at 0x19524c12b38>"
      ]
     },
     "metadata": {},
     "output_type": "display_data"
    }
   ],
   "source": [
    "mglearn.plots.plot_cross_validation()"
   ]
  },
  {
   "cell_type": "code",
   "execution_count": 13,
   "metadata": {},
   "outputs": [
    {
     "name": "stdout",
     "output_type": "stream",
     "text": [
      "cross_val_score [ 0.96078431  0.92156863  0.95833333]\n"
     ]
    }
   ],
   "source": [
    "from sklearn.model_selection import cross_val_score\n",
    "from sklearn.datasets import load_iris\n",
    "from sklearn.linear_model import LogisticRegression\n",
    "\n",
    "iris = load_iris()\n",
    "logreg = LogisticRegression()\n",
    "scores = cross_val_score(logreg, iris.data, iris.target)\n",
    "# cross_val_score의 변수는 3개가 들어감 : 사용할 모델 / 데이터 셋 / 타겟 셋\n",
    "print ('cross_val_score {}'.format(scores))\n",
    "# cross_val_score의 k dafault 는 3임.\n",
    "# cv = num 변수를 통해서 k값을 변경 할 수 있음"
   ]
  },
  {
   "cell_type": "code",
   "execution_count": 15,
   "metadata": {},
   "outputs": [
    {
     "name": "stdout",
     "output_type": "stream",
     "text": [
      "k=5 scores 0.96\n"
     ]
    }
   ],
   "source": [
    "# 보통 스코어의 평균을 사용함\n",
    "scores = cross_val_score(logreg, iris.data, iris.target, cv = 5)\n",
    "print ('k=5 scores {:.2f}'.format(scores.mean()))"
   ]
  },
  {
   "cell_type": "markdown",
   "metadata": {},
   "source": [
    "## 교차 검증의 장점"
   ]
  },
  {
   "cell_type": "markdown",
   "metadata": {},
   "source": [
    "- train_test_split을 하더라도 경우에 따라선 데이터들이 몰릴 수가 있따\n",
    "    - 즉 어느 경우엔 테스트가 잘나오고 어느때엔 트레인이 잘 나오는 등의 경우가 발생 가낭\n",
    "- 교차 검증의 경우 테스트셋이 폴드마다 들어가기때문에 모델이 데이터 전체에 적합화 될 수 있음\n",
    "- 분할을 한번 했을때보다 더 효과적으로 사용 할 수 있다.\n",
    "    - train_test_split의 경우 75%(디폴트)를 사용하나 k-fold의 경우 더 다양하게 활용이 가능함\n",
    "- 다만 연산비용이 늘어남\n",
    "- k-fold는 score를 계산할 뿐 최적의 모델을 뽑아내는 함수가 아님\n",
    "\n",
    "- cross_val_predict 함ㅅ를 사용하면 교차검증으로 만든 예측값을 구할 수 있다\n",
    "    - 무슨말이지"
   ]
  },
  {
   "cell_type": "code",
   "execution_count": 16,
   "metadata": {},
   "outputs": [
    {
     "name": "stdout",
     "output_type": "stream",
     "text": [
      "iris ravel [0 0 0 0 0 0 0 0 0 0 0 0 0 0 0 0 0 0 0 0 0 0 0 0 0 0 0 0 0 0 0 0 0 0 0 0 0\n",
      " 0 0 0 0 0 0 0 0 0 0 0 0 0 1 1 1 1 1 1 1 1 1 1 1 1 1 1 1 1 1 1 1 1 1 1 1 1\n",
      " 1 1 1 1 1 1 1 1 1 1 1 1 1 1 1 1 1 1 1 1 1 1 1 1 1 1 2 2 2 2 2 2 2 2 2 2 2\n",
      " 2 2 2 2 2 2 2 2 2 2 2 2 2 2 2 2 2 2 2 2 2 2 2 2 2 2 2 2 2 2 2 2 2 2 2 2 2\n",
      " 2 2]\n"
     ]
    }
   ],
   "source": [
    "print ('iris ravel {}'.format(iris.target))\n",
    "# 이 경우 순서대로 레이블이 나뉘어져 있다.\n",
    "# 이런경우엔 k를 3으로 둔다면 모든 경우에 정확도가 0이 나온다 => 알맞은 방법이 아니다\n",
    "# 계층별 교차검증을 사용하면 된다"
   ]
  },
  {
   "cell_type": "code",
   "execution_count": 17,
   "metadata": {},
   "outputs": [
    {
     "data": {
      "image/png": "[encoded data removed]",
      "text/plain": [
       "<matplotlib.figure.Figure at 0x195252b1550>"
      ]
     },
     "metadata": {},
     "output_type": "display_data"
    }
   ],
   "source": [
    "mglearn.plots.plot_stratified_cross_validation()"
   ]
  },
  {
   "cell_type": "code",
   "execution_count": 19,
   "metadata": {},
   "outputs": [
    {
     "name": "stdout",
     "output_type": "stream",
     "text": [
      "cross val score [ 1.          0.93333333  0.43333333  0.96666667  0.43333333]\n"
     ]
    }
   ],
   "source": [
    "from sklearn.model_selection import KFold\n",
    "kfold = KFold(n_splits = 5)\n",
    "\n",
    "print ('cross val score {}'.format(cross_val_score(logreg, iris.data, iris.target, cv = kfold)))\n",
    "# cross val socre의 경우 cv 파라미터는 단순히 k개의 갯수만을 뜻했다\n",
    "# cross val score은 회귀에는 kfold, 분류에는 stratifiedKfold를 사용한다.\n",
    "# 만약 분류모델에서 kfold를 사용하고 싶다면? - cv값에 kfold 객체 값을 넣어준다."
   ]
  },
  {
   "cell_type": "code",
   "execution_count": 21,
   "metadata": {},
   "outputs": [
    {
     "name": "stdout",
     "output_type": "stream",
     "text": [
      "cross val score[ 0.  0.  0.]\n",
      "cross val score [ 0.96078431  0.92156863  0.95833333]\n"
     ]
    }
   ],
   "source": [
    "kfold = KFold(n_splits = 3)\n",
    "print ('cross val score{}'.format(cross_val_score(logreg, iris.data, iris.target, cv = kfold)))\n",
    "print ('cross val score {}'.format(cross_val_score(logreg, iris.data, iris.target, cv = 3)))\n",
    "# iris는 분류 문제이게 때문에 StratifiedKFold를 사용함. \n",
    "# 따라서 같은 cv = 3이라 하더라도 결과가 다르다\n",
    "# k-fold를 사용하면서 Stratified 처럼의 효과를 주고 싶으면 kfold의 shuffle 매개변수를 지정해주자 : True로"
   ]
  },
  {
   "cell_type": "code",
   "execution_count": 23,
   "metadata": {},
   "outputs": [
    {
     "name": "stdout",
     "output_type": "stream",
     "text": [
      "cross_val_score [ 0.96078431  0.92156863  0.95833333]\n"
     ]
    }
   ],
   "source": [
    "from sklearn.model_selection import StratifiedKFold\n",
    "kk = StratifiedKFold(n_splits = 3)\n",
    "print ('cross_val_score {}'.format(cross_val_score(logreg, iris.data, iris.target, cv = kk)))"
   ]
  },
  {
   "cell_type": "code",
   "execution_count": 25,
   "metadata": {},
   "outputs": [
    {
     "name": "stdout",
     "output_type": "stream",
     "text": [
      "cross val score [ 1.    0.92  1.  ]\n"
     ]
    }
   ],
   "source": [
    "kfold = KFold(n_splits = 3, shuffle = True, random_state = 42) # 랜덤스테이트 설정해줘야 같은 조건이 유지됨\n",
    "print ('cross val score {}'.format(cross_val_score(logreg, iris.data, iris.target, cv = kfold)))"
   ]
  },
  {
   "cell_type": "markdown",
   "metadata": {},
   "source": [
    "## 또 다른 교차검증 방법인 LOOCV(Leave One Out Cross Validation)"
   ]
  },
  {
   "cell_type": "markdown",
   "metadata": {},
   "source": [
    "- 폴드 하나에 샘플 하나만 들어있는 K-겹 교차 검증임\n",
    "    - 무슨말일\n",
    "   "
   ]
  },
  {
   "cell_type": "code",
   "execution_count": 26,
   "metadata": {},
   "outputs": [
    {
     "name": "stdout",
     "output_type": "stream",
     "text": [
      "cross val count :  150\n",
      "scores.mean 0.95\n"
     ]
    }
   ],
   "source": [
    "from sklearn.model_selection import LeaveOneOut\n",
    "loo = LeaveOneOut()\n",
    "\n",
    "scores = cross_val_score(logreg, iris.data, iris.target, cv = loo)\n",
    "print ('cross val count : ', len(scores))\n",
    "print ('scores.mean {:.2f}'.format(scores.mean()))"
   ]
  },
  {
   "cell_type": "markdown",
   "metadata": {},
   "source": [
    "## 임의 분할 교차 검증 : shuffle-split cross validation"
   ]
  },
  {
   "cell_type": "markdown",
   "metadata": {},
   "source": [
    "- train)size 만큼의 포인트로 훈련세트를 만들고 test size만큼의 포인트로 (훈련세트와 중첩되지 않은) 테스트 세트를 만들도록 분할\n",
    "- 분할 횟수는 n_splits 횟수 만큼 반복된다.\n",
    "- 무슨말인지 모르겠다.\n",
    "- 포인트가 뭐지."
   ]
  },
  {
   "cell_type": "code",
   "execution_count": 28,
   "metadata": {},
   "outputs": [
    {
     "data": {
      "image/png": "[encoded data removed]",
      "text/plain": [
       "<matplotlib.figure.Figure at 0x19524c029e8>"
      ]
     },
     "metadata": {},
     "output_type": "display_data"
    }
   ],
   "source": [
    "mglearn.plots.plot_shuffle_split()\n",
    "# 샘플이 10개인 데이터셋을 5개 포인트의 훈련세트, 2개 포인트의 테스트 세트로 4번 반복하여 나누는 것을 보여준다.\n",
    "# train_size, test_size에 정수 입력시 데이터 포인트의 절대 개수를 의미하고 실수를 입혁하면 전체 데이터에서의 비율을 나타낸다"
   ]
  },
  {
   "cell_type": "code",
   "execution_count": 31,
   "metadata": {},
   "outputs": [
    {
     "name": "stdout",
     "output_type": "stream",
     "text": [
      "cross val score \n",
      "[ 0.96        0.93333333  0.96        0.96        0.92        0.98666667\n",
      "  0.94666667  0.93333333  0.98666667  0.97333333]\n"
     ]
    }
   ],
   "source": [
    "from sklearn.model_selection import ShuffleSplit\n",
    "shuffle_split = ShuffleSplit(test_size =.5, train_size = .5, n_splits = 10) #비율을 주기 위해서 실수값으로 입력함\n",
    "scores = cross_val_score(logreg, iris.data, iris.target, cv = shuffle_split)\n",
    "print ('cross val score \\n{}'.format(scores))"
   ]
  },
  {
   "cell_type": "markdown",
   "metadata": {},
   "source": [
    "- 임의 분할 교차 검증은 반복 횟수를 훈련 세트나 테스트 세트의 크기와 독립적으로 조절 할 때 유용\n",
    "- train_size, test_size를 전체와 다르게 할 수 있다 = 전체 데이터에서 일부만 사용 가능(부분 샘플링)\n",
    "- Shufflespit의 계층별 버젼으로 분류 작업에 더 적합한 StraifiedShuffleSpit도 있다."
   ]
  }
 ],
 "metadata": {
  "kernelspec": {
   "display_name": "Python 3",
   "language": "python",
   "name": "python3"
  },
  "language_info": {
   "codemirror_mode": {
    "name": "ipython",
    "version": 3
   },
   "file_extension": ".py",
   "mimetype": "text/x-python",
   "name": "python",
   "nbconvert_exporter": "python",
   "pygments_lexer": "ipython3",
   "version": "3.6.1"
  }
 },
 "nbformat": 4,
 "nbformat_minor": 2
}
